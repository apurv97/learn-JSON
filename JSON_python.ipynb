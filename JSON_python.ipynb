{
 "cells": [
  {
   "cell_type": "code",
   "execution_count": 8,
   "metadata": {},
   "outputs": [],
   "source": [
    "import json\n",
    "json_file = open(\"C:/Users/Apurv Varshney/Desktop/json_sandbox/movie.txt\", \"r\", encoding=\"utf-8\")\n",
    "movie = json.load(json_file)\n",
    "json_file.close()"
   ]
  },
  {
   "cell_type": "code",
   "execution_count": 9,
   "metadata": {},
   "outputs": [
    {
     "data": {
      "text/plain": [
       "{'title': 'Gattaca',\n",
       " 'release_year': 1997,\n",
       " 'is_awesome': True,\n",
       " 'won_oscar': False,\n",
       " 'actors': ['Loren Dean', 'Uma Thurman', 'Ethan Hawke'],\n",
       " 'budget': None,\n",
       " 'credits': {'director': 'Andrew',\n",
       "  'composer': 'Michael',\n",
       "  'cinematographer': 'Slawomir'}}"
      ]
     },
     "execution_count": 9,
     "metadata": {},
     "output_type": "execute_result"
    }
   ],
   "source": [
    "movie"
   ]
  },
  {
   "cell_type": "code",
   "execution_count": 10,
   "metadata": {},
   "outputs": [
    {
     "data": {
      "text/plain": [
       "'Gattaca'"
      ]
     },
     "execution_count": 10,
     "metadata": {},
     "output_type": "execute_result"
    }
   ],
   "source": [
    "movie[\"title\"]"
   ]
  },
  {
   "cell_type": "code",
   "execution_count": 11,
   "metadata": {},
   "outputs": [
    {
     "data": {
      "text/plain": [
       "['Loren Dean', 'Uma Thurman', 'Ethan Hawke']"
      ]
     },
     "execution_count": 11,
     "metadata": {},
     "output_type": "execute_result"
    }
   ],
   "source": [
    "movie[\"actors\"]"
   ]
  },
  {
   "cell_type": "code",
   "execution_count": 12,
   "metadata": {},
   "outputs": [
    {
     "data": {
      "text/plain": [
       "1997"
      ]
     },
     "execution_count": 12,
     "metadata": {},
     "output_type": "execute_result"
    }
   ],
   "source": [
    "movie[\"release_year\"]"
   ]
  },
  {
   "cell_type": "code",
   "execution_count": 13,
   "metadata": {},
   "outputs": [],
   "source": [
    "value = \"\"\"\n",
    "{\n",
    "\"title\" : \"Tron: Legacy\",\n",
    "\"composer\" : \"Daft Punk\",\n",
    "\"release_year\" : 2010,\n",
    "\"budget\" : 1700000,\n",
    "\"actors\": null,\n",
    "\"won_oscar\": false\n",
    "}\"\"\""
   ]
  },
  {
   "cell_type": "code",
   "execution_count": 14,
   "metadata": {},
   "outputs": [
    {
     "data": {
      "text/plain": [
       "{'title': 'Tron: Legacy',\n",
       " 'composer': 'Daft Punk',\n",
       " 'release_year': 2010,\n",
       " 'budget': 1700000,\n",
       " 'actors': None,\n",
       " 'won_oscar': False}"
      ]
     },
     "execution_count": 14,
     "metadata": {},
     "output_type": "execute_result"
    }
   ],
   "source": [
    "tron = json.loads(value)\n",
    "tron"
   ]
  },
  {
   "cell_type": "code",
   "execution_count": 15,
   "metadata": {},
   "outputs": [
    {
     "data": {
      "text/plain": [
       "{'title': 'Gattaca',\n",
       " 'release_year': 1997,\n",
       " 'is_awesome': True,\n",
       " 'won_oscar': False,\n",
       " 'actors': ['Loren Dean', 'Uma Thurman', 'Ethan Hawke'],\n",
       " 'budget': None,\n",
       " 'credits': {'director': 'Andrew',\n",
       "  'composer': 'Michael',\n",
       "  'cinematographer': 'Slawomir'}}"
      ]
     },
     "execution_count": 15,
     "metadata": {},
     "output_type": "execute_result"
    }
   ],
   "source": [
    "movie"
   ]
  },
  {
   "cell_type": "code",
   "execution_count": 17,
   "metadata": {},
   "outputs": [
    {
     "data": {
      "text/plain": [
       "'{\"title\": \"Gattaca\", \"release_year\": 1997, \"is_awesome\": true, \"won_oscar\": false, \"actors\": [\"Loren Dean\", \"Uma Thurman\", \"Ethan Hawke\"], \"budget\": null, \"credits\": {\"director\": \"Andrew\", \"composer\": \"Michael\", \"cinematographer\": \"Slawomir\"}}'"
      ]
     },
     "execution_count": 17,
     "metadata": {},
     "output_type": "execute_result"
    }
   ],
   "source": [
    "json.dumps(movie, ensure_ascii=False)"
   ]
  },
  {
   "cell_type": "code",
   "execution_count": 18,
   "metadata": {},
   "outputs": [],
   "source": [
    "movie2 = {}\n",
    "movie2[\"title\"] = \"Minority Report\"\n",
    "movie2[\"director\"] = \"Steven Spielberg\"\n",
    "movie2[\"composer\"] = \"John Williams\"\n",
    "movie2[\"actors\"] = [\"Tom Cruise\", \"Colin Farrell\",\n",
    " \"Samantha Morton\",\"Max von Sydow\"]\n",
    "movie2[\"is_awesome\"] = True\n",
    "movie2[\"budget\"] = 102000000\n",
    "movie2[\"cinemotographer\"] = \"Janusz Kami\\u0144ski\""
   ]
  },
  {
   "cell_type": "code",
   "execution_count": 19,
   "metadata": {},
   "outputs": [],
   "source": [
    "file2 = open(\"./movie_2.txt\", \"w\", encoding=\"utf-8\")\n",
    "json.dump(movie2, file2, ensure_ascii=False)\n",
    "file2.close()"
   ]
  }
 ],
 "metadata": {
  "kernelspec": {
   "display_name": "Python 3",
   "language": "python",
   "name": "python3"
  },
  "language_info": {
   "codemirror_mode": {
    "name": "ipython",
    "version": 3
   },
   "file_extension": ".py",
   "mimetype": "text/x-python",
   "name": "python",
   "nbconvert_exporter": "python",
   "pygments_lexer": "ipython3",
   "version": "3.7.1"
  }
 },
 "nbformat": 4,
 "nbformat_minor": 2
}
